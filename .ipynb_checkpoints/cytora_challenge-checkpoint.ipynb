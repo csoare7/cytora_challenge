{
 "cells": [
  {
   "cell_type": "code",
   "execution_count": 12,
   "metadata": {
    "collapsed": false,
    "deletable": true,
    "editable": true
   },
   "outputs": [],
   "source": [
    "from google.cloud import storage\n",
    "from google.oauth2 import service_account\n",
    "from opencage.geocoder import OpenCageGeocode\n",
    "import google.auth\n",
    "import json\n",
    "import spacy \n",
    "\n",
    "nlp = spacy.load('en')\n",
    "\n",
    "PROJECT = \"cytora-interviews\"\n",
    "CREDENTIALS = \"cytora-interview-service-account.json\"\n",
    "BUCKET = \"cytora-interview-data\"\n",
    "\n",
    "with open('keys.json') as json_data:\n",
    "    keys = json.load(json_data)\n",
    "GEOCODE_API_KEY = keys[\"opencage_api_key\"]\n",
    "geocoder = OpenCageGeocode(GEOCODE_API_KEY)"
   ]
  },
  {
   "cell_type": "code",
   "execution_count": 13,
   "metadata": {
    "collapsed": false,
    "deletable": true,
    "editable": true
   },
   "outputs": [],
   "source": [
    "# https://medium.com/google-cloud/simple-google-api-auth-samples-for-service-accounts-installed-application-and-appengine-da30ee4648\n",
    "def connect():\n",
    "  credentials = service_account.Credentials.from_service_account_file(CREDENTIALS)\n",
    "  if credentials.requires_scopes:\n",
    "    credentials = credentials.with_scopes(['https://www.googleapis.com/auth/devstorage.read_write'])\n",
    "    try:\n",
    "      return storage.Client(project=PROJECT, credentials=credentials)\n",
    "    except Exception as e:\n",
    "      raise e\n",
    "client = connect()"
   ]
  },
  {
   "cell_type": "code",
   "execution_count": 14,
   "metadata": {
    "collapsed": false,
    "deletable": true,
    "editable": true
   },
   "outputs": [],
   "source": [
    "articles = []\n",
    "def get_blobs(client):\n",
    "  try:\n",
    "    bucket = client.get_bucket(BUCKET)\n",
    "    if bucket:\n",
    "      blobs = bucket.list_blobs()\n",
    "      for blob in blobs:\n",
    "        articles.append(json.loads(blob.download_as_string().decode(\"utf-8\")))\n",
    "        break\n",
    "  except Exception as e:\n",
    "    raise e\n",
    "get_blobs(client)"
   ]
  },
  {
   "cell_type": "code",
   "execution_count": 6,
   "metadata": {
    "collapsed": false,
    "deletable": true,
    "editable": true
   },
   "outputs": [
    {
     "name": "stdout",
     "output_type": "stream",
     "text": [
      "[{'content': 'Hundreds of people are expected to attend the funeral of student Karen Buckley in her home town today.    A large police search was launched for Miss Buckley, 24, when she was reported missing after a night out in Glasgow on April 12.    Her body was found at a farm north of the city four days later and  Alexander Pacteau was arrested and charged with her murder.    Ms Buckley moved to Scotland in February and was studying occupational therapy at Glasgow Caledonian University.    Her case touched many people in both Scotland and Ireland, with a number of memorial services  held in her honour.    Around 300 people attended a vigil in Glasgow\\'s George Square earlier this month, including Ms Buckley\\'s parents John and Marian.    Flowers, candles, cards and messages were laid out in the square as a piper  played and a minute\\'s silence was held.    Her funeral service will be held today in the Church of St Michael the Archangel,  Analeentha, Cork, with large crowds expected to attend.    A notice posted on the service read: \"Sadly missed by her heartbroken parents, brothers, grandmother, uncles, aunts, sister-in-law Niamh, cousins, relatives, neighbours and her many friends.    \"May she rest in peace.\"', 'title': 'Hundreds expected at Karen funeral', 'geo_locations': ['Glasgow', 'Scotland', 'Ireland'], 'personal_ents': ['Karen Buckley', 'Buckley', 'Alexander Pacteau', 'Ms Buckley', 'George Square', \"Ms Buckley's\", 'John', 'Marian', 'Niamh'], 'url': 'http://www.somersetcountygazette.co.uk/uk_national_news/12917042.Hundreds_expected_at_Karen_funeral/?ref=rss', 'organisations': ['Glasgow Caledonian University']}]\n"
     ]
    }
   ],
   "source": [
    "def get_personal_ents(text):\n",
    "    personal_ents = []\n",
    "    for ent in text.ents:\n",
    "        if ent.label_ == 'PERSON' and ent.text not in personal_ents:\n",
    "            personal_ents.append(ent.text)\n",
    "    return personal_ents\n",
    "\n",
    "def get_organisations(text):\n",
    "    organisations = []\n",
    "    for ent in text.ents:\n",
    "        if ent.label_ == 'ORG' and ent.text not in organisations:\n",
    "            organisations.append(ent.text)\n",
    "    return organisations\n",
    "\n",
    "def get_geo_locations(text):\n",
    "    locations = []\n",
    "    for ent in text.ents:\n",
    "        if ent.label_ == 'GPE' and ent.text not in locations:\n",
    "            locations.append(ent.text)\n",
    "    return locations  \n",
    "\n",
    "def get_geocode_from_location(loc_name):\n",
    "    location = {\"lat\": 0, \"long\": 0}\n",
    "    results = geocoder.geocode(loc_name)\n",
    "    if results[\"status\"] == 200:\n",
    "    \n",
    "    else:\n",
    "        return location\n",
    "\n",
    "for article in articles:\n",
    "    processed_content = nlp(article[\"content\"])\n",
    "    article[\"personal_ents\"] = get_personal_ents(processed_content)\n",
    "    article[\"organisations\"] = get_organisations(processed_content)\n",
    "    article[\"geo_locations\"] = get_geo_locations(processed_content)\n",
    "    break\n",
    "    \n",
    "print(articles)\n",
    "\n"
   ]
  },
  {
   "cell_type": "code",
   "execution_count": null,
   "metadata": {
    "collapsed": true,
    "deletable": true,
    "editable": true
   },
   "outputs": [],
   "source": []
  }
 ],
 "metadata": {
  "kernelspec": {
   "display_name": "Python 3",
   "language": "python",
   "name": "python3"
  },
  "language_info": {
   "codemirror_mode": {
    "name": "ipython",
    "version": 3
   },
   "file_extension": ".py",
   "mimetype": "text/x-python",
   "name": "python",
   "nbconvert_exporter": "python",
   "pygments_lexer": "ipython3",
   "version": "3.5.2"
  }
 },
 "nbformat": 4,
 "nbformat_minor": 2
}
