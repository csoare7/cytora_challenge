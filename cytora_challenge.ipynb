{
 "cells": [
  {
   "cell_type": "code",
   "execution_count": 26,
   "metadata": {
    "collapsed": false,
    "deletable": true,
    "editable": true
   },
   "outputs": [],
   "source": [
    "from google.cloud import storage\n",
    "from google.oauth2 import service_account\n",
    "from opencage.geocoder import OpenCageGeocode\n",
    "import googlemaps\n",
    "import google.auth\n",
    "import json\n",
    "import spacy \n",
    "\n",
    "nlp = spacy.load('en')\n",
    "\n",
    "PROJECT = \"cytora-interviews\"\n",
    "CREDENTIALS = \"cytora-interview-service-account.json\"\n",
    "BUCKET = \"cytora-interview-data\"\n",
    "\n",
    "with open('keys.json') as json_data:\n",
    "    keys = json.load(json_data)\n",
    "GEOCODE_API_KEY = keys[\"opencage_api_key\"]\n",
    "GOOGLEMAPS_API_KEY = keys[\"gmaps_api_key\"]\n",
    "geocoder = OpenCageGeocode(GEOCODE_API_KEY)\n",
    "gmaps = googlemaps.Client(key=GOOGLEMAPS_API_KEY)"
   ]
  },
  {
   "cell_type": "code",
   "execution_count": 13,
   "metadata": {
    "collapsed": false,
    "deletable": true,
    "editable": true
   },
   "outputs": [],
   "source": [
    "# https://medium.com/google-cloud/simple-google-api-auth-samples-for-service-accounts-installed-application-and-appengine-da30ee4648\n",
    "def connect():\n",
    "  credentials = service_account.Credentials.from_service_account_file(CREDENTIALS)\n",
    "  if credentials.requires_scopes:\n",
    "    credentials = credentials.with_scopes(['https://www.googleapis.com/auth/devstorage.read_write'])\n",
    "    try:\n",
    "      return storage.Client(project=PROJECT, credentials=credentials)\n",
    "    except Exception as e:\n",
    "      raise e\n",
    "client = connect()"
   ]
  },
  {
   "cell_type": "code",
   "execution_count": 14,
   "metadata": {
    "collapsed": false,
    "deletable": true,
    "editable": true
   },
   "outputs": [],
   "source": [
    "articles = []\n",
    "def get_blobs(client):\n",
    "  try:\n",
    "    bucket = client.get_bucket(BUCKET)\n",
    "    if bucket:\n",
    "      blobs = bucket.list_blobs()\n",
    "      for blob in blobs:\n",
    "        articles.append(json.loads(blob.download_as_string().decode(\"utf-8\")))\n",
    "        break\n",
    "  except Exception as e:\n",
    "    raise e\n",
    "get_blobs(client)"
   ]
  },
  {
   "cell_type": "code",
   "execution_count": 43,
   "metadata": {
    "collapsed": false,
    "deletable": true,
    "editable": true
   },
   "outputs": [],
   "source": [
    "def get_personal_ents(text):\n",
    "    personal_ents = []\n",
    "    for ent in text.ents:\n",
    "        if ent.label_ == 'PERSON' and ent.text not in personal_ents:\n",
    "            personal_ents.append(ent.text)\n",
    "    return personal_ents\n",
    "\n",
    "def get_organisations(text):\n",
    "    organisations = []\n",
    "    for ent in text.ents:\n",
    "        if ent.label_ == 'ORG' and ent.text not in organisations:\n",
    "            organisations.append(ent.text)\n",
    "    return organisations\n",
    "\n",
    "def get_geo_locations(text):\n",
    "    locations = []\n",
    "    for ent in text.ents:\n",
    "        if ent.label_ == 'GPE' and ent.text not in locations:\n",
    "            locations.append(ent.text)\n",
    "    return locations  \n",
    "\n",
    "def get_geocode_from_location(loc_name):\n",
    "    location = {\"lat\": 0, \"long\": 0}\n",
    "    results = gmaps.geocode(loc_name)\n",
    "    import pprint\n",
    "    pprint.pprint(results[0])\n",
    "    if len(results) > 0:\n",
    "        location[\"lat\"] = results[0][\"address_components\"][\"location\"][\"lat\"]\n",
    "        location[\"long\"] = results[0][\"address_components\"][\"location\"][\"lng\"]\n",
    "    return location\n",
    "\n",
    "for article in articles:\n",
    "    processed_content = nlp(article[\"content\"])\n",
    "    article[\"personal_ents\"] = get_personal_ents(processed_content)\n",
    "    article[\"organisations\"] = get_organisations(processed_content)\n",
    "    article[\"geo_locations\"] = get_geo_locations(processed_content)\n",
    "    break\n",
    "    \n",
    "#print(articles)"
   ]
  },
  {
   "cell_type": "code",
   "execution_count": 44,
   "metadata": {
    "collapsed": false
   },
   "outputs": [
    {
     "name": "stdout",
     "output_type": "stream",
     "text": [
      "{'address_components': [{'long_name': 'Glasgow',\n",
      "                         'short_name': 'Glasgow',\n",
      "                         'types': ['locality', 'political']},\n",
      "                        {'long_name': 'Glasgow',\n",
      "                         'short_name': 'Glasgow',\n",
      "                         'types': ['postal_town']},\n",
      "                        {'long_name': 'Glasgow City',\n",
      "                         'short_name': 'Glasgow City',\n",
      "                         'types': ['administrative_area_level_2', 'political']},\n",
      "                        {'long_name': 'Scotland',\n",
      "                         'short_name': 'Scotland',\n",
      "                         'types': ['administrative_area_level_1', 'political']},\n",
      "                        {'long_name': 'United Kingdom',\n",
      "                         'short_name': 'GB',\n",
      "                         'types': ['country', 'political']}],\n",
      " 'formatted_address': 'Glasgow, UK',\n",
      " 'geometry': {'bounds': {'northeast': {'lat': 55.9296413, 'lng': -4.0717167},\n",
      "                         'southwest': {'lat': 55.7812791, 'lng': -4.3932005}},\n",
      "              'location': {'lat': 55.864237, 'lng': -4.251806},\n",
      "              'location_type': 'APPROXIMATE',\n",
      "              'viewport': {'northeast': {'lat': 55.9296413, 'lng': -4.0717167},\n",
      "                           'southwest': {'lat': 55.7812791,\n",
      "                                         'lng': -4.3925279}}},\n",
      " 'place_id': 'ChIJ685WIFYViEgRHlHvBbiD5nE',\n",
      " 'types': ['locality', 'political']}\n"
     ]
    },
    {
     "ename": "TypeError",
     "evalue": "list indices must be integers or slices, not str",
     "output_type": "error",
     "traceback": [
      "\u001b[0;31m---------------------------------------------------------------------------\u001b[0m",
      "\u001b[0;31mTypeError\u001b[0m                                 Traceback (most recent call last)",
      "\u001b[0;32m<ipython-input-44-abe82efe24b7>\u001b[0m in \u001b[0;36m<module>\u001b[0;34m()\u001b[0m\n\u001b[0;32m----> 1\u001b[0;31m \u001b[0mget_geocode_from_location\u001b[0m\u001b[0;34m(\u001b[0m\u001b[0;34m\"Glasgow\"\u001b[0m\u001b[0;34m)\u001b[0m\u001b[0;34m\u001b[0m\u001b[0m\n\u001b[0m",
      "\u001b[0;32m<ipython-input-43-231857145562>\u001b[0m in \u001b[0;36mget_geocode_from_location\u001b[0;34m(loc_name)\u001b[0m\n\u001b[1;32m     26\u001b[0m     \u001b[0mpprint\u001b[0m\u001b[0;34m.\u001b[0m\u001b[0mpprint\u001b[0m\u001b[0;34m(\u001b[0m\u001b[0mresults\u001b[0m\u001b[0;34m[\u001b[0m\u001b[0;36m0\u001b[0m\u001b[0;34m]\u001b[0m\u001b[0;34m)\u001b[0m\u001b[0;34m\u001b[0m\u001b[0m\n\u001b[1;32m     27\u001b[0m     \u001b[0;32mif\u001b[0m \u001b[0mlen\u001b[0m\u001b[0;34m(\u001b[0m\u001b[0mresults\u001b[0m\u001b[0;34m)\u001b[0m \u001b[0;34m>\u001b[0m \u001b[0;36m0\u001b[0m\u001b[0;34m:\u001b[0m\u001b[0;34m\u001b[0m\u001b[0m\n\u001b[0;32m---> 28\u001b[0;31m         \u001b[0mlocation\u001b[0m\u001b[0;34m[\u001b[0m\u001b[0;34m\"lat\"\u001b[0m\u001b[0;34m]\u001b[0m \u001b[0;34m=\u001b[0m \u001b[0mresults\u001b[0m\u001b[0;34m[\u001b[0m\u001b[0;36m0\u001b[0m\u001b[0;34m]\u001b[0m\u001b[0;34m[\u001b[0m\u001b[0;34m\"address_components\"\u001b[0m\u001b[0;34m]\u001b[0m\u001b[0;34m[\u001b[0m\u001b[0;34m\"location\"\u001b[0m\u001b[0;34m]\u001b[0m\u001b[0;34m[\u001b[0m\u001b[0;34m\"lat\"\u001b[0m\u001b[0;34m]\u001b[0m\u001b[0;34m\u001b[0m\u001b[0m\n\u001b[0m\u001b[1;32m     29\u001b[0m         \u001b[0mlocation\u001b[0m\u001b[0;34m[\u001b[0m\u001b[0;34m\"long\"\u001b[0m\u001b[0;34m]\u001b[0m \u001b[0;34m=\u001b[0m \u001b[0mresults\u001b[0m\u001b[0;34m[\u001b[0m\u001b[0;36m0\u001b[0m\u001b[0;34m]\u001b[0m\u001b[0;34m[\u001b[0m\u001b[0;34m\"address_components\"\u001b[0m\u001b[0;34m]\u001b[0m\u001b[0;34m[\u001b[0m\u001b[0;34m\"location\"\u001b[0m\u001b[0;34m]\u001b[0m\u001b[0;34m[\u001b[0m\u001b[0;34m\"lng\"\u001b[0m\u001b[0;34m]\u001b[0m\u001b[0;34m\u001b[0m\u001b[0m\n\u001b[1;32m     30\u001b[0m     \u001b[0;32mreturn\u001b[0m \u001b[0mlocation\u001b[0m\u001b[0;34m\u001b[0m\u001b[0m\n",
      "\u001b[0;31mTypeError\u001b[0m: list indices must be integers or slices, not str"
     ]
    }
   ],
   "source": [
    "get_geocode_from_location(\"Glasgow\")"
   ]
  },
  {
   "cell_type": "code",
   "execution_count": null,
   "metadata": {
    "collapsed": true,
    "deletable": true,
    "editable": true
   },
   "outputs": [],
   "source": []
  }
 ],
 "metadata": {
  "kernelspec": {
   "display_name": "Python 3",
   "language": "python",
   "name": "python3"
  },
  "language_info": {
   "codemirror_mode": {
    "name": "ipython",
    "version": 3
   },
   "file_extension": ".py",
   "mimetype": "text/x-python",
   "name": "python",
   "nbconvert_exporter": "python",
   "pygments_lexer": "ipython3",
   "version": "3.5.2"
  }
 },
 "nbformat": 4,
 "nbformat_minor": 2
}
