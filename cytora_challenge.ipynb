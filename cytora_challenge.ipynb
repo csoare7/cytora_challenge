{
 "cells": [
  {
   "cell_type": "markdown",
   "metadata": {
    "deletable": true,
    "editable": true
   },
   "source": [
    "# Initialisation & imports"
   ]
  },
  {
   "cell_type": "code",
   "execution_count": 152,
   "metadata": {
    "collapsed": false,
    "deletable": true,
    "editable": true
   },
   "outputs": [],
   "source": [
    "from google.cloud import storage\n",
    "from google.cloud.storage import Blob\n",
    "from google.oauth2 import service_account\n",
    "from opencage.geocoder import OpenCageGeocode\n",
    "import googlemaps\n",
    "import google.auth\n",
    "import json\n",
    "import spacy \n",
    "import time\n",
    "import hashlib\n",
    "\n",
    "PROJECT = \"cytora-interviews\"\n",
    "CREDENTIALS = \"cytora-interview-service-account.json\"\n",
    "BUCKET = \"cytora-interview-data\"\n",
    "RESULTS_BUCKET = \"cytora-interview-results\"\n",
    "\n",
    "with open('keys.json') as json_data:\n",
    "    keys = json.load(json_data)\n",
    "\n",
    "GOOGLEMAPS_API_KEY = keys[\"gmaps_api_key\"]\n",
    "gmaps = googlemaps.Client(key=GOOGLEMAPS_API_KEY)\n",
    "nlp = spacy.load('en')"
   ]
  },
  {
   "cell_type": "markdown",
   "metadata": {
    "deletable": true,
    "editable": true
   },
   "source": [
    "# Establish the connection to Google Storage"
   ]
  },
  {
   "cell_type": "code",
   "execution_count": 60,
   "metadata": {
    "collapsed": false,
    "deletable": true,
    "editable": true
   },
   "outputs": [],
   "source": [
    "# https://medium.com/google-cloud/simple-google-api-auth-samples-for-service-accounts-installed-application-and-appengine-da30ee4648\n",
    "def connect():\n",
    "    credentials = service_account.Credentials.from_service_account_file(CREDENTIALS)\n",
    "    if credentials.requires_scopes:\n",
    "        credentials = credentials.with_scopes(['https://www.googleapis.com/auth/devstorage.read_write'])\n",
    "    try:\n",
    "        return storage.Client(project=PROJECT, credentials=credentials)\n",
    "    except Exception as e:\n",
    "        raise e\n",
    "client = connect()"
   ]
  },
  {
   "cell_type": "markdown",
   "metadata": {},
   "source": [
    "# Fetch the news data from the bucket"
   ]
  },
  {
   "cell_type": "code",
   "execution_count": 64,
   "metadata": {
    "collapsed": false,
    "deletable": true,
    "editable": true
   },
   "outputs": [],
   "source": [
    "def get_blobs(client):\n",
    "    articles = []\n",
    "    try:\n",
    "        bucket = client.get_bucket(BUCKET)\n",
    "        if bucket:\n",
    "            blobs = bucket.list_blobs()\n",
    "            for blob in blobs:\n",
    "                articles.append(json.loads(blob.download_as_string().decode(\"utf-8\")))\n",
    "            return articles\n",
    "    except Exception as e:\n",
    "        return articles\n",
    "articles = get_blobs(client)"
   ]
  },
  {
   "cell_type": "markdown",
   "metadata": {},
   "source": [
    "# Define data processing & upload methods"
   ]
  },
  {
   "cell_type": "code",
   "execution_count": 151,
   "metadata": {
    "collapsed": false,
    "deletable": true,
    "editable": true
   },
   "outputs": [],
   "source": [
    "def md5(string):\n",
    "    return hashlib.md5(string.encode('utf-8')).hexdigest()\n",
    "\n",
    "def upload_blob(article, prefix=None, file_type=\".json\"):\n",
    "    blob_name = md5(article[\"title\"])\n",
    "    blob = result_bucket.blob(prefix + blob_name + file_type)\n",
    "    blob.upload_from_string(json.dumps(article))\n",
    "\n",
    "def get_personal_ents(text):\n",
    "    personal_ents = []\n",
    "    for ent in text.ents:\n",
    "        if ent.label_ == 'PERSON' and ent.text not in personal_ents:\n",
    "            personal_ents.append(ent.text)\n",
    "    return personal_ents\n",
    "\n",
    "def get_organisations(text):\n",
    "    organisations = []\n",
    "    for ent in text.ents:\n",
    "        if ent.label_ == 'ORG' and ent.text not in organisations:\n",
    "            organisations.append(ent.text)\n",
    "    return organisations\n",
    "\n",
    "def get_geo_locations(text):\n",
    "    locations = []\n",
    "    location_names = []\n",
    "    for ent in text.ents:\n",
    "        loc_name = ent.text\n",
    "        if ent.label_ == 'GPE' and loc_name not in location_names:\n",
    "            location_names.append(loc_name)\n",
    "            locations.append({\"name\": loc_name, \"location\": get_geocode_from_location(loc_name)})\n",
    "    return locations  \n",
    "\n",
    "# need to keep cache of existing locations to avoid double requests & keep quota low \n",
    "# cached_locations = {\"name1\": {\"lat\": 0, \"long\": 0}, ...}\n",
    "cached_locations = {}\n",
    "def get_geocode_from_location(loc_name):\n",
    "    location = {\"lat\": 0, \"long\": 0}\n",
    "    if loc_name in cached_locations:\n",
    "        # read cached data if exists already\n",
    "        location = cached_locations[loc_name]\n",
    "    else:\n",
    "        # fetch geoloc data from Google API\n",
    "        results = gmaps.geocode(loc_name)\n",
    "        if len(results) > 0:\n",
    "            location[\"lat\"] = results[0][\"geometry\"][\"location\"][\"lat\"]\n",
    "            location[\"long\"] = results[0][\"geometry\"][\"location\"][\"lng\"]\n",
    "            # cache location data\n",
    "            cached_locations[loc_name] = location\n",
    "    return location"
   ]
  },
  {
   "cell_type": "markdown",
   "metadata": {},
   "source": [
    "# Now process and upload the data :)"
   ]
  },
  {
   "cell_type": "code",
   "execution_count": 142,
   "metadata": {
    "collapsed": false,
    "deletable": true,
    "editable": true
   },
   "outputs": [],
   "source": [
    "result_bucket = client.get_bucket(RESULTS_BUCKET)\n",
    "for article in articles:\n",
    "    processed_content = nlp(article[\"content\"])\n",
    "    article[\"personal_ents\"] = get_personal_ents(processed_content)\n",
    "    article[\"organisations\"] = get_organisations(processed_content)\n",
    "    article[\"geo_locations\"] = get_geo_locations(processed_content)\n",
    "    upload_blob(prefix=\"cosoare/\", article)\n",
    "    time.sleep(100)"
   ]
  }
 ],
 "metadata": {
  "kernelspec": {
   "display_name": "Python 3",
   "language": "python",
   "name": "python3"
  },
  "language_info": {
   "codemirror_mode": {
    "name": "ipython",
    "version": 3
   },
   "file_extension": ".py",
   "mimetype": "text/x-python",
   "name": "python",
   "nbconvert_exporter": "python",
   "pygments_lexer": "ipython3",
   "version": "3.5.2"
  }
 },
 "nbformat": 4,
 "nbformat_minor": 2
}
